{
  "nbformat": 4,
  "nbformat_minor": 0,
  "metadata": {
    "colab": {
      "private_outputs": true,
      "provenance": [],
      "collapsed_sections": [
        "vncDsAP0Gaoa",
        "FJNUwmbgGyua",
        "w6K7xa23Elo4",
        "yQaldy8SH6Dl",
        "PH-0ReGfmX4f",
        "mDgbUHAGgjLW",
        "O_i_v8NEhb9l",
        "HhfV-JJviCcP",
        "Y3lxredqlCYt",
        "3RnN4peoiCZX",
        "x71ZqKXriCWQ",
        "7hBIi_osiCS2",
        "JlHwYmJAmNHm",
        "35m5QtbWiB9F",
        "PoPl-ycgm1ru",
        "H0kj-8xxnORC",
        "nA9Y7ga8ng1Z",
        "PBTbrJXOngz2",
        "u3PMJOP6ngxN",
        "dauF4eBmngu3",
        "bKJF3rekwFvQ",
        "MSa1f5Uengrz",
        "GF8Ens_Soomf",
        "0wOQAZs5pc--",
        "K5QZ13OEpz2H",
        "lQ7QKXXCp7Bj",
        "448CDAPjqfQr",
        "KSlN3yHqYklG",
        "t6dVpIINYklI",
        "ijmpgYnKYklI",
        "-JiQyfWJYklI",
        "EM7whBJCYoAo",
        "fge-S5ZAYoAp",
        "85gYPyotYoAp",
        "RoGjAbkUYoAp",
        "4Of9eVA-YrdM",
        "iky9q4vBYrdO",
        "F6T5p64dYrdO",
        "y-Ehk30pYrdP",
        "bamQiAODYuh1",
        "QHF8YVU7Yuh3",
        "GwzvFGzlYuh3",
        "qYpmQ266Yuh3",
        "OH-pJp9IphqM",
        "bbFf2-_FphqN",
        "_ouA3fa0phqN",
        "Seke61FWphqN",
        "PIIx-8_IphqN",
        "t27r6nlMphqO",
        "r2jJGEOYphqO",
        "b0JNsNcRphqO",
        "BZR9WyysphqO",
        "jj7wYXLtphqO",
        "eZrbJ2SmphqO",
        "rFu4xreNphqO",
        "YJ55k-q6phqO",
        "gCFgpxoyphqP",
        "OVtJsKN_phqQ",
        "lssrdh5qphqQ",
        "U2RJ9gkRphqQ",
        "1M8mcRywphqQ",
        "tgIPom80phqQ",
        "JMzcOPDDphqR",
        "x-EpHcCOp1ci",
        "X_VqEhTip1ck",
        "8zGJKyg5p1ck",
        "PVzmfK_Ep1ck",
        "n3dbpmDWp1ck",
        "ylSl6qgtp1ck",
        "ZWILFDl5p1ck",
        "M7G43BXep1ck",
        "Ag9LCva-p1cl",
        "E6MkPsBcp1cl",
        "2cELzS2fp1cl",
        "3MPXvC8up1cl",
        "NC_X3p0fY2L0",
        "UV0SzAkaZNRQ",
        "YPEH6qLeZNRQ",
        "q29F0dvdveiT",
        "EXh0U9oCveiU",
        "22aHeOlLveiV",
        "JcMwzZxoAimU",
        "8G2x9gOozGDZ",
        "gCX9965dhzqZ",
        "gIfDvo9L0UH2"
      ],
      "include_colab_link": true
    },
    "kernelspec": {
      "name": "python3",
      "display_name": "Python 3"
    },
    "language_info": {
      "name": "python"
    }
  },
  "cells": [
    {
      "cell_type": "markdown",
      "metadata": {
        "id": "view-in-github",
        "colab_type": "text"
      },
      "source": [
        "<a href=\"https://colab.research.google.com/github/tarunn107/EDA/blob/main/Copy_of_Sample_EDA_Submission_Template.ipynb\" target=\"_parent\"><img src=\"https://colab.research.google.com/assets/colab-badge.svg\" alt=\"Open In Colab\"/></a>"
      ]
    },
    {
      "cell_type": "markdown",
      "source": [
        "# **Project Name**    - EDA on Global Terrorism Dataset\n",
        "\n"
      ],
      "metadata": {
        "id": "vncDsAP0Gaoa"
      }
    },
    {
      "cell_type": "markdown",
      "source": [
        "##### **Project Type**    - EDA\n",
        "##### **Contribution**    - Individual\n",
        "##### **Name              -**     Tarun S\n"
      ],
      "metadata": {
        "id": "beRrZCGUAJYm"
      }
    },
    {
      "cell_type": "markdown",
      "source": [
        "# **Project Summary -**"
      ],
      "metadata": {
        "id": "FJNUwmbgGyua"
      }
    },
    {
      "cell_type": "markdown",
      "source": [
        "Write the summary here within 500-600 words."
      ],
      "metadata": {
        "id": "F6v_1wHtG2nS"
      }
    },
    {
      "cell_type": "markdown",
      "source": [
        "# **GitHub Link -**"
      ],
      "metadata": {
        "id": "w6K7xa23Elo4"
      }
    },
    {
      "cell_type": "markdown",
      "source": [
        "Provide your GitHub Link here."
      ],
      "metadata": {
        "id": "h1o69JH3Eqqn"
      }
    },
    {
      "cell_type": "markdown",
      "source": [
        "# **Problem Statement**\n"
      ],
      "metadata": {
        "id": "yQaldy8SH6Dl"
      }
    },
    {
      "cell_type": "markdown",
      "source": [
        "**Write Problem Statement Here.**"
      ],
      "metadata": {
        "id": "DpeJGUA3kjGy"
      }
    },
    {
      "cell_type": "markdown",
      "source": [
        "#### **Define Your Business Objective?**"
      ],
      "metadata": {
        "id": "PH-0ReGfmX4f"
      }
    },
    {
      "cell_type": "markdown",
      "source": [
        "Answer Here."
      ],
      "metadata": {
        "id": "PhDvGCAqmjP1"
      }
    },
    {
      "cell_type": "markdown",
      "source": [
        "# **General Guidelines** : -  "
      ],
      "metadata": {
        "id": "mDgbUHAGgjLW"
      }
    },
    {
      "cell_type": "markdown",
      "source": [
        "1.   Well-structured, formatted, and commented code is required. \n",
        "2.   Exception Handling, Production Grade Code & Deployment Ready Code will be a plus. Those students will be awarded some additional credits. \n",
        "     \n",
        "     The additional credits will have advantages over other students during Star Student selection.\n",
        "       \n",
        "             [ Note: - Deployment Ready Code is defined as, the whole .ipynb notebook should be executable in one go\n",
        "                       without a single error logged. ]\n",
        "\n",
        "3.   Each and every logic should have proper comments.\n",
        "4. You may add as many number of charts you want. Make Sure for each and every chart the following format should be answered.\n",
        "        \n",
        "\n",
        "```\n",
        "# Chart visualization code\n",
        "```\n",
        "            \n",
        "\n",
        "*   Why did you pick the specific chart?\n",
        "*   What is/are the insight(s) found from the chart?\n",
        "* Will the gained insights help creating a positive business impact? \n",
        "Are there any insights that lead to negative growth? Justify with specific reason.\n",
        "\n",
        "5. You have to create at least 20 logical & meaningful charts having important insights.\n",
        "\n",
        "\n",
        "[ Hints : - Do the Vizualization in  a structured way while following \"UBM\" Rule. \n",
        "\n",
        "U - Univariate Analysis,\n",
        "\n",
        "B - Bivariate Analysis (Numerical - Categorical, Numerical - Numerical, Categorical - Categorical)\n",
        "\n",
        "M - Multivariate Analysis\n",
        " ]\n",
        "\n",
        "\n",
        "\n"
      ],
      "metadata": {
        "id": "ZrxVaUj-hHfC"
      }
    },
    {
      "cell_type": "markdown",
      "source": [
        "# ***Let's Begin !***"
      ],
      "metadata": {
        "id": "O_i_v8NEhb9l"
      }
    },
    {
      "cell_type": "markdown",
      "source": [
        "## ***1. Know Your Data***"
      ],
      "metadata": {
        "id": "HhfV-JJviCcP"
      }
    },
    {
      "cell_type": "markdown",
      "source": [
        "### Import Libraries"
      ],
      "metadata": {
        "id": "Y3lxredqlCYt"
      }
    },
    {
      "cell_type": "code",
      "source": [
        "import numpy as np\n",
        "import pandas as pd\n",
        "import matplotlib.pyplot as plt\n",
        "import seaborn as sns\n",
        "import missingno as msno"
      ],
      "metadata": {
        "id": "M8Vqi-pPk-HR"
      },
      "execution_count": null,
      "outputs": []
    },
    {
      "cell_type": "markdown",
      "source": [
        "### Dataset Loading"
      ],
      "metadata": {
        "id": "3RnN4peoiCZX"
      }
    },
    {
      "cell_type": "code",
      "source": [
        "from google.colab import drive\n",
        "drive.mount('/content/drive/')"
      ],
      "metadata": {
        "id": "4CkvbW_SlZ_R"
      },
      "execution_count": null,
      "outputs": []
    },
    {
      "cell_type": "code",
      "source": [
        "df = pd.read_csv('/content/drive/MyDrive/Santa/GlobalTerrorismData.csv', encoding='latin-1')\n",
        "pd.set_option('display.max_columns', None)"
      ],
      "metadata": {
        "id": "HP-yr1jTy92C"
      },
      "execution_count": null,
      "outputs": []
    },
    {
      "cell_type": "markdown",
      "source": [
        "### Dataset First View"
      ],
      "metadata": {
        "id": "x71ZqKXriCWQ"
      }
    },
    {
      "cell_type": "code",
      "source": [
        "df.head()"
      ],
      "metadata": {
        "id": "LWNFOSvLl09H"
      },
      "execution_count": null,
      "outputs": []
    },
    {
      "cell_type": "markdown",
      "source": [
        "### Dataset Rows & Columns count"
      ],
      "metadata": {
        "id": "7hBIi_osiCS2"
      }
    },
    {
      "cell_type": "code",
      "source": [
        "print('Number of rows,columns is',df.shape)\n",
        "print('Total number of elements is',df.size)"
      ],
      "metadata": {
        "id": "Kllu7SJgmLij"
      },
      "execution_count": null,
      "outputs": []
    },
    {
      "cell_type": "markdown",
      "source": [
        "### Dataset Information"
      ],
      "metadata": {
        "id": "JlHwYmJAmNHm"
      }
    },
    {
      "cell_type": "code",
      "source": [
        "df.info(verbose=True, show_counts=True)"
      ],
      "metadata": {
        "id": "e9hRXRi6meOf"
      },
      "execution_count": null,
      "outputs": []
    },
    {
      "cell_type": "markdown",
      "source": [
        "#### Duplicate Values"
      ],
      "metadata": {
        "id": "35m5QtbWiB9F"
      }
    },
    {
      "cell_type": "code",
      "source": [
        "# Dataset Duplicate Value Count\n",
        "df.duplicated().sum()"
      ],
      "metadata": {
        "id": "1sLdpKYkmox0"
      },
      "execution_count": null,
      "outputs": []
    },
    {
      "cell_type": "markdown",
      "source": [
        "#### Missing Values/Null Values"
      ],
      "metadata": {
        "id": "PoPl-ycgm1ru"
      }
    },
    {
      "cell_type": "code",
      "source": [
        "df.isnull().sum()"
      ],
      "metadata": {
        "id": "RZ8ujntqHn0Q"
      },
      "execution_count": null,
      "outputs": []
    },
    {
      "cell_type": "code",
      "source": [
        "# Missing Values/Null Values Count\n",
        "df.isnull().sum().sum()"
      ],
      "metadata": {
        "id": "vHs6t1kIEOmE"
      },
      "execution_count": null,
      "outputs": []
    },
    {
      "cell_type": "code",
      "source": [
        "# Visualizing the missing values\n",
        "msno.bar(df)\n"
      ],
      "metadata": {
        "id": "oJ-eutnBFkIZ"
      },
      "execution_count": null,
      "outputs": []
    },
    {
      "cell_type": "code",
      "source": [
        "df.describe()"
      ],
      "metadata": {
        "id": "cJ2TpmKQDILu"
      },
      "execution_count": null,
      "outputs": []
    },
    {
      "cell_type": "markdown",
      "source": [
        "### What did you know about your dataset?"
      ],
      "metadata": {
        "id": "H0kj-8xxnORC"
      }
    },
    {
      "cell_type": "markdown",
      "source": [
        "1.   Contains 135 columns and 181691 rows.\n",
        "2.   Contains information of terror attacks from 1970 to 2017\n",
        "3.   Contains 13853997 null values\n"
      ],
      "metadata": {
        "id": "gfoNAAC-nUe_"
      }
    },
    {
      "cell_type": "code",
      "source": [
        "df1=pd.DataFrame(df[['iyear','imonth','iday','region_txt','country_txt','city','attacktype1_txt','success','suicide','targtype1_txt','weaptype1_txt','targsubtype1_txt','gname','nkill','nwound']])\n",
        "df1.rename(columns = {'iyear':'year','imonth':'month','iday':'day','region_txt':'region','nwound':'wounded','nkill':'killed','country_txt':'country','attacktype1_txt':'type_of_attack','weaptype1_txt':'weapon','targtype1_txt':'target','targsubtype1_txt':'target_subtype','gname':'attacker'}, inplace = True)\n",
        "df1.head()"
      ],
      "metadata": {
        "id": "PcIJ6jNtqVcz"
      },
      "execution_count": null,
      "outputs": []
    },
    {
      "cell_type": "markdown",
      "source": [
        "## ***2. Understanding Your Variables***"
      ],
      "metadata": {
        "id": "nA9Y7ga8ng1Z"
      }
    },
    {
      "cell_type": "code",
      "source": [
        "# Dataset Columns\n",
        "df1.columns"
      ],
      "metadata": {
        "id": "j7xfkqrt5Ag5"
      },
      "execution_count": null,
      "outputs": []
    },
    {
      "cell_type": "code",
      "source": [
        "# Dataset Describe\n",
        "df1.describe()"
      ],
      "metadata": {
        "id": "DnOaZdaE5Q5t"
      },
      "execution_count": null,
      "outputs": []
    },
    {
      "cell_type": "code",
      "source": [
        "df1.info()"
      ],
      "metadata": {
        "id": "FsUsqKhsrsjm"
      },
      "execution_count": null,
      "outputs": []
    },
    {
      "cell_type": "markdown",
      "source": [
        "### Variables Description "
      ],
      "metadata": {
        "id": "PBTbrJXOngz2"
      }
    },
    {
      "cell_type": "markdown",
      "source": [
        "year, month, day: Represent date of attack \n",
        "\n",
        "* year, month, day: Represent date of attack \n",
        "\n",
        "* success, suicide, individual: 1 denotes success of terrorsit mission,    suicide committed, attack performed by individual. 0 denotes failure,suicide not committed, attack perdormed by group respectively.\n",
        "\n",
        "* country, city and region of attack are mentioned in their respective columns\n",
        "\n",
        "* type_of_attack represents the type of terrorist attack. (example:   Assasination, Bombing/Explosion)\n",
        "*target column contains the name of target organisation.\n",
        "*attacker column contains the name of the terrorist group\n",
        "*killed,wounded shows the number of people killed and wounded respectively.\n",
        "\n",
        "\n",
        "\n",
        "\n",
        "\n"
      ],
      "metadata": {
        "id": "aJV4KIxSnxay"
      }
    },
    {
      "cell_type": "markdown",
      "source": [
        "### Check Unique Values for each variable."
      ],
      "metadata": {
        "id": "u3PMJOP6ngxN"
      }
    },
    {
      "cell_type": "code",
      "source": [
        "df1.nunique()"
      ],
      "metadata": {
        "id": "zms12Yq5n-jE"
      },
      "execution_count": null,
      "outputs": []
    },
    {
      "cell_type": "code",
      "source": [
        "print(df1['attacker'].unique())"
      ],
      "metadata": {
        "id": "M6YSVNrlFgal"
      },
      "execution_count": null,
      "outputs": []
    },
    {
      "cell_type": "markdown",
      "source": [
        "## 3. ***Data Wrangling***"
      ],
      "metadata": {
        "id": "dauF4eBmngu3"
      }
    },
    {
      "cell_type": "markdown",
      "source": [
        "### Data Wrangling Code"
      ],
      "metadata": {
        "id": "bKJF3rekwFvQ"
      }
    },
    {
      "cell_type": "markdown",
      "source": [
        "Dealing with missing values as shown below.\n",
        "Creating a new column 'casulaties' as sum of 'wounded' and 'killed'."
      ],
      "metadata": {
        "id": "ZkvcJvXIHfGz"
      }
    },
    {
      "cell_type": "code",
      "source": [
        "df1['wounded'] = df1['wounded'].fillna(0).astype(int)\n",
        "df1['killed'] = df1['killed'].fillna(0).astype(int)\n",
        "df1['casualities']=df1['wounded']+df1['killed']\n",
        "df1['target_subtype']=df1['target_subtype'].fillna('Other')\n",
        "df1['city']=df1['city'].fillna('Unknown')\n",
        "\n",
        "df1.isnull().sum()"
      ],
      "metadata": {
        "id": "wk-9a2fpoLcV"
      },
      "execution_count": null,
      "outputs": []
    },
    {
      "cell_type": "code",
      "source": [
        "#Country with the most attacks. \n",
        "country=df1['country'].value_counts().to_frame()\n",
        "country.rename(columns = {'country':'attacks'}, inplace = True)\n",
        "country"
      ],
      "metadata": {
        "id": "MMtTPbKUbNW6"
      },
      "execution_count": null,
      "outputs": []
    },
    {
      "cell_type": "markdown",
      "source": [
        "\n",
        "\n",
        "\n",
        "*  Iraq is the most attacked country.\n",
        "\n",
        "\n",
        "\n"
      ],
      "metadata": {
        "id": "enPab4T9bupN"
      }
    },
    {
      "cell_type": "code",
      "source": [
        "#City with the most attacks. Excluding 'Unknown' values using drop method.\n",
        "city=df1['city'].value_counts().to_frame()\n",
        "city.drop(index=city.index[0], axis=0, inplace=True)\n",
        "city.rename(columns = {'city':'attacks'}, inplace = True)\n",
        "city"
      ],
      "metadata": {
        "id": "4_CF6gk8Jd-O"
      },
      "execution_count": null,
      "outputs": []
    },
    {
      "cell_type": "markdown",
      "source": [
        "\n",
        "\n",
        "\n",
        "\n",
        "*   Baghdad is the most attacked city\n",
        "\n",
        "\n",
        "\n",
        "\n"
      ],
      "metadata": {
        "id": "elx-Jyetb4K0"
      }
    },
    {
      "cell_type": "code",
      "source": [
        "#creating sub dataframe from main dataframe for ransom information \n",
        "df2=pd.DataFrame(df[['country_txt','city','ransompaid']])\n",
        "df2.rename(columns = {'country_txt':'country'}, inplace = True)\n",
        "#filling null values with 0, replacing -99 with 0\n",
        "df2= df2.dropna()\n",
        "df2['ransompaid'] = df2['ransompaid'].replace([-99], np.nan)\n",
        "df2['ransompaid'] = df2['ransompaid'].replace([0], np.nan)\n",
        "\n",
        "df2= df2.dropna()\n",
        "\n",
        "a=(df2.groupby(['country'])['ransompaid'].sum()) \n",
        "b=(df2.groupby(['country'])['ransompaid'].count())\n",
        "df3= pd.merge(a, b, right_index = True,left_index = True)\n",
        "df3.rename(columns={'ransompaid_x':'ransom sum','ransompaid_y':'number of ransom attacks'},inplace=True)\n",
        "df3 = df3.astype({\"ransom sum\": int})\n",
        "df3.sort_values(by=['number of ransom attacks'],ascending=False, inplace=True)\n",
        "df3.reset_index(inplace=True)\n",
        "df3.head()\n"
      ],
      "metadata": {
        "id": "mH_Ou0IQ76w2"
      },
      "execution_count": null,
      "outputs": []
    },
    {
      "cell_type": "markdown",
      "source": [
        "Phillipines is the country with the most number of ransom attacks which succeeded."
      ],
      "metadata": {
        "id": "CUbxHZIGlgXZ"
      }
    },
    {
      "cell_type": "code",
      "source": [
        "#highest ransom incident\n",
        "df2.loc[df2['ransompaid']==df2['ransompaid'].max()]\n"
      ],
      "metadata": {
        "id": "paXfpK8Y8rq8"
      },
      "execution_count": null,
      "outputs": []
    },
    {
      "cell_type": "code",
      "source": [
        "df2.loc[df2['country']=='India']\n"
      ],
      "metadata": {
        "id": "prA3ceOnlRpB"
      },
      "execution_count": null,
      "outputs": []
    },
    {
      "cell_type": "code",
      "source": [
        "#creating sub dataframe from main dataframe for kidnap information \n",
        "df2=pd.DataFrame(df[['country_txt','nhostkid']])\n",
        "df2.rename(columns = {'country_txt':'country','nhostkid':'kidnap operations'}, inplace = True)\n",
        "df2['kidnap operations'] = df2['kidnap operations'].replace([-99], np.nan)\n",
        "df2['kidnap operations'] = df2['kidnap operations'].replace([0], np.nan)\n",
        "df2= df2.dropna()\n",
        "\n",
        "a=(df2.groupby(['country'])['kidnap operations'].sum()) \n",
        "b=(df2.groupby(['country'])['kidnap operations'].count())\n",
        "df3= pd.merge(b, a, right_index = True,left_index = True)\n",
        "df3.rename(columns={'kidnap operations_x':'kidnap operations','kidnap operations_y':'number of people kidnapped'},inplace=True)\n",
        "df3 = df3.astype({'number of people kidnapped': int})\n",
        "df3.sort_values(by=['kidnap operations'],ascending=False, inplace=True)\n",
        "df3.reset_index(inplace=True)\n",
        "df3.head()\n"
      ],
      "metadata": {
        "id": "sfO_1UpDz34g"
      },
      "execution_count": null,
      "outputs": []
    },
    {
      "cell_type": "markdown",
      "source": [
        "India is the country with the most kidnapping operations.\n"
      ],
      "metadata": {
        "id": "mjKgwHabkawq"
      }
    },
    {
      "cell_type": "markdown",
      "source": [
        "Identifying the terorrist groups with the most number of attacks\n",
        "\n"
      ],
      "metadata": {
        "id": "GZnHbDl0cvnv"
      }
    },
    {
      "cell_type": "code",
      "source": [
        "df1['attacker'].value_counts()\n",
        "top_attackers=pd.DataFrame(df1['attacker'].value_counts().reset_index())\n",
        "top_attackers.columns=['organistation','number_of_attacks']\n",
        "top_attackers.drop(index=top_attackers.index[0], axis=0, inplace=True)\n",
        "\n",
        "top_attackers.head(6)"
      ],
      "metadata": {
        "id": "VkUbdLDP_71r"
      },
      "execution_count": null,
      "outputs": []
    },
    {
      "cell_type": "code",
      "source": [],
      "metadata": {
        "id": "tTIsUoTmbCAJ"
      },
      "execution_count": null,
      "outputs": []
    },
    {
      "cell_type": "code",
      "source": [
        "df1['type_of_attack'].value_counts()/df1.shape[0]*100"
      ],
      "metadata": {
        "id": "ncxb-sWggF_Y"
      },
      "execution_count": null,
      "outputs": []
    },
    {
      "cell_type": "code",
      "source": [],
      "metadata": {
        "id": "PWG_J203VDFf"
      },
      "execution_count": null,
      "outputs": []
    },
    {
      "cell_type": "markdown",
      "source": [
        "### What all manipulations have you done and insights you found?"
      ],
      "metadata": {
        "id": "MSa1f5Uengrz"
      }
    },
    {
      "cell_type": "markdown",
      "source": [
        "Answer Here."
      ],
      "metadata": {
        "id": "LbyXE7I1olp8"
      }
    },
    {
      "cell_type": "markdown",
      "source": [
        "## ***4. Data Vizualization, Storytelling & Experimenting with charts : Understand the relationships between variables***"
      ],
      "metadata": {
        "id": "GF8Ens_Soomf"
      }
    },
    {
      "cell_type": "code",
      "source": [
        "#Creating wordcloud where countries displayed with biggest text have had the most attacks.\n",
        "from wordcloud import WordCloud\n",
        "plt.subplots(figsize=(10,10))\n",
        "wordcloud = WordCloud(background_color = 'white',width = 400,height = 400).generate(' '.join(df1['country']))\n",
        "plt.title('Most Attacked Countries', fontsize = 20)\n",
        "plt.axis('off')\n",
        "plt.imshow(wordcloud)"
      ],
      "metadata": {
        "id": "BdraD5YceY42"
      },
      "execution_count": null,
      "outputs": []
    },
    {
      "cell_type": "markdown",
      "source": [
        "WordCloud of top countries attacked by terrorists.\n"
      ],
      "metadata": {
        "id": "efeKwW54EqPJ"
      }
    },
    {
      "cell_type": "markdown",
      "source": [
        "#### Chart - 1"
      ],
      "metadata": {
        "id": "0wOQAZs5pc--"
      }
    },
    {
      "cell_type": "code",
      "source": [
        "# Chart - 1 visualization code\n",
        "attacks_year=df1['year'].value_counts()\n",
        "plt.subplots(figsize=(14,10))\n",
        "plot1 = sns.barplot(attacks_year.index,attacks_year)\n",
        "plot1.set_xlabel(\"Year\")\n",
        "plot1.set_ylabel(\"Number of Attacks\")\n",
        "plt.xticks(rotation=45)\n",
        "plt.show()"
      ],
      "metadata": {
        "id": "7v_ESjsspbW7"
      },
      "execution_count": null,
      "outputs": []
    },
    {
      "cell_type": "markdown",
      "source": [
        "##### 1. Why did you pick the specific chart?"
      ],
      "metadata": {
        "id": "K5QZ13OEpz2H"
      }
    },
    {
      "cell_type": "markdown",
      "source": [
        "This chart was chosen to visualize the variation of number of attacks with the progress of years from 1970 to 2017."
      ],
      "metadata": {
        "id": "XESiWehPqBRc"
      }
    },
    {
      "cell_type": "markdown",
      "source": [
        "##### 2. What is/are the insight(s) found from the chart?"
      ],
      "metadata": {
        "id": "lQ7QKXXCp7Bj"
      }
    },
    {
      "cell_type": "markdown",
      "source": [
        "\n",
        "\n",
        "\n",
        "*  Number of attacks per year has been increasing gradually from 1970.\n",
        "\n",
        "*  A sudden dip in the number of attacks happens in 1980.\n",
        "*  Drastic increase in number of attacks is noted since 2012.\n",
        "* 2014 had the highest number of attacks.\n",
        "\n",
        "\n",
        "\n",
        "\n"
      ],
      "metadata": {
        "id": "C_j1G7yiqdRP"
      }
    },
    {
      "cell_type": "markdown",
      "source": [
        "#### Chart - 2\n"
      ],
      "metadata": {
        "id": "Nw6Y01CspdHe"
      }
    },
    {
      "cell_type": "code",
      "source": [
        "casualities_df=pd.DataFrame(df1.groupby('year').sum())\n",
        "plt.subplots(figsize=(14,10))\n",
        "plot1 = sns.barplot(casualities_df.index,casualities_df['casualities'])\n",
        "plot1.set_xlabel(\"Year\")\n",
        "plot1.set_ylabel(\"Number of Casualities\")\n",
        "plt.xticks(rotation=45)\n",
        "plt.show()"
      ],
      "metadata": {
        "id": "ILNKhSioptWM"
      },
      "execution_count": null,
      "outputs": []
    },
    {
      "cell_type": "code",
      "source": [
        "#Identifying why 2001 shows increased casualities compared to number of attacks from previous chart\n",
        "df1[df1['casualities']==df1['casualities'].max()]\n",
        "\n",
        "\n"
      ],
      "metadata": {
        "id": "XwYvoNRj3vDQ"
      },
      "execution_count": null,
      "outputs": []
    },
    {
      "cell_type": "code",
      "source": [
        "print(df1.groupby('year')['casualities'].sum().max())\n",
        "df1.groupby('year')['casualities'].sum().min()\n",
        "\n"
      ],
      "metadata": {
        "id": "q9cgKtYtABF2"
      },
      "execution_count": null,
      "outputs": []
    },
    {
      "cell_type": "markdown",
      "source": [
        "##### 1. Why did you pick the specific chart?\n",
        "This chart was chosen to visualize the variation of casualities due to attacks with the progress of years from 1970 to 2017."
      ],
      "metadata": {
        "id": "2UJmj8bt7qcO"
      }
    },
    {
      "cell_type": "markdown",
      "source": [
        "##### 2. What is/are the insight(s) found from the chart?\n",
        "* It is identical to number of attacks variation in the previous sections except for 2001. The 9/11 attacks are the reason behind this spike in the year 2001.\n",
        "* 9574 casualities were reported in the 9/11 attack.\n",
        "\n",
        "*   2014 recorded the highest number of casualities(85618)\n",
        "\n",
        "*   1971 recorded the highest number of casualities(255)\n",
        "\n",
        "\n",
        "\n"
      ],
      "metadata": {
        "id": "3D2z55Xm8eKo"
      }
    },
    {
      "cell_type": "markdown",
      "source": [
        "\n",
        "##### 3. Will the gained insights help creating a positive business impact? \n",
        "Are there any insights that lead to negative growth? Justify with specific reason."
      ],
      "metadata": {
        "id": "1JabmA9e8pZc"
      }
    },
    {
      "cell_type": "markdown",
      "source": [
        "###Chart-3"
      ],
      "metadata": {
        "id": "maNnulziDWvD"
      }
    },
    {
      "cell_type": "code",
      "source": [
        "# Chart - 9 visualization code\n",
        "attacks_year = df1.groupby(['year', 'region']).count().unstack()['country']\n",
        "attacks_year.plot(kind='line', figsize=(20,6)).patch.set_facecolor('white')\n",
        "plt.grid(color='grey')\n",
        "plt.title('Terrorist attacks across regions', fontsize = 20)\n",
        "plt.ylabel('Number of Attacks', fontsize = 15)\n",
        "plt.xlabel('Year', fontsize = 15)"
      ],
      "metadata": {
        "id": "5pay6EK3DpRc"
      },
      "execution_count": null,
      "outputs": []
    },
    {
      "cell_type": "code",
      "source": [
        "attacks_regions = df1['region'].value_counts()\n",
        "fig = plt.figure(figsize =(7, 7))\n",
        "plt.pie(attacks_regions,labels=list(attacks_regions.index),autopct='%1.1f%%',startangle=180)\n",
        "plt.title('Attacks Across Various Regions')\n",
        "plt.show() "
      ],
      "metadata": {
        "id": "0ZAS-xYM9Pmt"
      },
      "execution_count": null,
      "outputs": []
    },
    {
      "cell_type": "markdown",
      "source": [
        "\n",
        "\n",
        "\n",
        "##### 1. Why did you pick the specific chart?"
      ],
      "metadata": {
        "id": "DzDeYuvdD7H9"
      }
    },
    {
      "cell_type": "markdown",
      "source": [
        "\n",
        "\n",
        "\n",
        "*  Line plot of number of terrorist attacks across different regions represented with different colours is visualized to demonstrate the variation of number of attacks through the years for each particular reagion seperately.\n",
        "*  Pie Chart of distrubtion of attacks across various regions is visualised.\n",
        "\n"
      ],
      "metadata": {
        "id": "t49ndK2jD7H9"
      }
    },
    {
      "cell_type": "markdown",
      "source": [
        "##### 2. What is/are the insight(s) found from the chart?"
      ],
      "metadata": {
        "id": "6ZcEbzXpD7H9"
      }
    },
    {
      "cell_type": "markdown",
      "source": [
        "\n",
        "1.   Middle East and North Africa region has seen the highest spike in terrorsist attacks since 2010 \n",
        "2.  East Asia, Central Asia appears to consistently have lower number of attacks compared to other regions.\n",
        "3. From the pie chart it is understood that 27.8% of all attacks have happened in Middle East and North Africa\n"
      ],
      "metadata": {
        "id": "LOe9uP0XD7H9"
      }
    },
    {
      "cell_type": "markdown",
      "source": [
        "##### 3. Will the gained insights help creating a positive business impact? \n",
        "Are there any insights that lead to negative growth? Justify with specific reason."
      ],
      "metadata": {
        "id": "OtNwdv3xD7H9"
      }
    },
    {
      "cell_type": "markdown",
      "source": [
        "Answer Here"
      ],
      "metadata": {
        "id": "PxMvSTuyD7H9"
      }
    },
    {
      "cell_type": "markdown",
      "source": [
        "#### Chart - 8\n"
      ],
      "metadata": {
        "id": "OH-pJp9IphqM"
      }
    },
    {
      "cell_type": "code",
      "source": [
        "# Chart - 6 visualization code\n",
        "attacks_regions = df1['weapon'].value_counts()\n",
        "fig = plt.figure(figsize =(7, 7))\n",
        "plt.pie(attacks_regions,labels=list(attacks_regions.index),autopct='%1.1f%%',startangle=180)\n",
        "plt.title('Most used weapons')\n",
        "plt.show() "
      ],
      "metadata": {
        "id": "kuRf4wtuphqN"
      },
      "execution_count": null,
      "outputs": []
    },
    {
      "cell_type": "code",
      "source": [],
      "metadata": {
        "id": "0nZx6dN97E60"
      },
      "execution_count": null,
      "outputs": []
    },
    {
      "cell_type": "markdown",
      "source": [
        "##### 1. Why did you pick the specific chart?"
      ],
      "metadata": {
        "id": "bbFf2-_FphqN"
      }
    },
    {
      "cell_type": "markdown",
      "source": [
        "This pie chart was chosen to visualize the weapon usage of the attackers."
      ],
      "metadata": {
        "id": "loh7H2nzphqN"
      }
    },
    {
      "cell_type": "markdown",
      "source": [
        "##### 2. What is/are the insight(s) found from the chart?"
      ],
      "metadata": {
        "id": "_ouA3fa0phqN"
      }
    },
    {
      "cell_type": "markdown",
      "source": [
        "\n",
        "1.   50.9% of all terrorist attacks are done using explosives.\n",
        "\n",
        "2.  32.2% attacks are done using firearms\n",
        "\n"
      ],
      "metadata": {
        "id": "VECbqPI7phqN"
      }
    },
    {
      "cell_type": "markdown",
      "source": [
        " ##### 3. Will the gained insights help creating a positive business impact? \n",
        "Are there any insights that lead to negative growth? Justify with specific reason."
      ],
      "metadata": {
        "id": "Seke61FWphqN"
      }
    },
    {
      "cell_type": "markdown",
      "source": [
        "Answer Here"
      ],
      "metadata": {
        "id": "DW4_bGpfphqN"
      }
    },
    {
      "cell_type": "markdown",
      "source": [
        "#### Chart - 4\n",
        "We have identified the top terrorist organizations in the previous section.Now we identify the weapon preferences of these organizations."
      ],
      "metadata": {
        "id": "KSlN3yHqYklG"
      }
    },
    {
      "cell_type": "code",
      "source": [
        "#Function to display pie chart of a particular category\n",
        "class Chart:\n",
        "  def __init__(self):\n",
        "    pass\n",
        "  def top4xofy(self,str1,str2,str3,str4):\n",
        "    try:\n",
        "      a=df1[df1[str1]==str2][str3].value_counts()\n",
        "      a=a.iloc[:4]\n",
        "      fig = plt.figure(figsize =(5, 5))\n",
        "      plt.pie(a,labels=list(a.index),autopct='%1.1f%%',startangle=180,explode=(0.1, 0.1, 0.2, 0.3))\n",
        "      plt.title(str4)\n",
        "      plt.show() \n",
        "    except:\n",
        "      a=df1[df1[str1]==str2][str3].value_counts()\n",
        "      a=a.iloc[:4]\n",
        "      fig = plt.figure(figsize =(7, 7))\n",
        "      plt.pie(a,labels=list(a.index),autopct='%1.1f%%',startangle=180)\n",
        "      plt.title(str4)\n",
        "      plt.show() \n"
      ],
      "metadata": {
        "id": "zYCHX54tL47c"
      },
      "execution_count": null,
      "outputs": []
    },
    {
      "cell_type": "code",
      "source": [
        "obj=Chart()\n",
        "obj.top4xofy('attacker','Taliban','weapon','Weapons used by Taliban(top 4)')   \n",
        "\n"
      ],
      "metadata": {
        "id": "R4YgtaqtYklH"
      },
      "execution_count": null,
      "outputs": []
    },
    {
      "cell_type": "markdown",
      "source": [
        "\n",
        "\n",
        "##### 1. Why did you pick the specific chart?"
      ],
      "metadata": {
        "id": "t6dVpIINYklI"
      }
    },
    {
      "cell_type": "markdown",
      "source": [
        "This pie chart was chosen to identify the top four weapons used by Taliban"
      ],
      "metadata": {
        "id": "5aaW0BYyYklI"
      }
    },
    {
      "cell_type": "markdown",
      "source": [
        "\n",
        "##### 2. What is/are the insight(s) found from the chart?"
      ],
      "metadata": {
        "id": "ijmpgYnKYklI"
      }
    },
    {
      "cell_type": "markdown",
      "source": [
        "Taliban prefers the use of explosives the most, followed by firearms."
      ],
      "metadata": {
        "id": "PSx9atu2YklI"
      }
    },
    {
      "cell_type": "markdown",
      "source": [
        "##### 3. Will the gained insights help creating a positive business impact? \n",
        "Are there any insights that lead to negative growth? Justify with specific reason."
      ],
      "metadata": {
        "id": "-JiQyfWJYklI"
      }
    },
    {
      "cell_type": "markdown",
      "source": [
        "Answer Here"
      ],
      "metadata": {
        "id": "BcBbebzrYklV"
      }
    },
    {
      "cell_type": "code",
      "source": [],
      "metadata": {
        "id": "JOyLvX4tti1l"
      },
      "execution_count": null,
      "outputs": []
    },
    {
      "cell_type": "markdown",
      "source": [
        "#### Chart - 5"
      ],
      "metadata": {
        "id": "EM7whBJCYoAo"
      }
    },
    {
      "cell_type": "code",
      "source": [
        "# Chart - 3 visualization code\n",
        "obj.top4xofy('attacker','Islamic State of Iraq and the Levant (ISIL)','weapon','Weapons used by ISIL(top 4)')  \n"
      ],
      "metadata": {
        "id": "t6GMdE67YoAp"
      },
      "execution_count": null,
      "outputs": []
    },
    {
      "cell_type": "markdown",
      "source": [
        "##### 1. Why did you pick the specific chart?"
      ],
      "metadata": {
        "id": "fge-S5ZAYoAp"
      }
    },
    {
      "cell_type": "markdown",
      "source": [
        "This pie chart was chosen to identify the top four weapons used by ISIL"
      ],
      "metadata": {
        "id": "5dBItgRVYoAp"
      }
    },
    {
      "cell_type": "markdown",
      "source": [
        "##### 2. What is/are the insight(s) found from the chart?"
      ],
      "metadata": {
        "id": "85gYPyotYoAp"
      }
    },
    {
      "cell_type": "markdown",
      "source": [
        "ISIL uses explosives the most."
      ],
      "metadata": {
        "id": "4jstXR6OYoAp"
      }
    },
    {
      "cell_type": "markdown",
      "source": [
        "##### 3. Will the gained insights help creating a positive business impact? \n",
        "Are there any insights that lead to negative growth? Justify with specific reason."
      ],
      "metadata": {
        "id": "RoGjAbkUYoAp"
      }
    },
    {
      "cell_type": "markdown",
      "source": [
        "Answer Here"
      ],
      "metadata": {
        "id": "zfJ8IqMcYoAp"
      }
    },
    {
      "cell_type": "markdown",
      "source": [
        "#### Chart - 6"
      ],
      "metadata": {
        "id": "4Of9eVA-YrdM"
      }
    },
    {
      "cell_type": "code",
      "source": [
        "# Chart - 4 visualization code\n",
        "obj.top4xofy('attacker','Shining Path (SL)','weapon','Weapons used by SL(top 4)')  \n"
      ],
      "metadata": {
        "id": "irlUoxc8YrdO"
      },
      "execution_count": null,
      "outputs": []
    },
    {
      "cell_type": "markdown",
      "source": [
        "##### 1. Why did you pick the specific chart?"
      ],
      "metadata": {
        "id": "iky9q4vBYrdO"
      }
    },
    {
      "cell_type": "markdown",
      "source": [
        "This pie chart was chosen to identify the top four weapons used by ISIL."
      ],
      "metadata": {
        "id": "aJRCwT6DYrdO"
      }
    },
    {
      "cell_type": "markdown",
      "source": [
        "##### 2. What is/are the insight(s) found from the chart?\n",
        "\n",
        "\n"
      ],
      "metadata": {
        "id": "F6T5p64dYrdO"
      }
    },
    {
      "cell_type": "markdown",
      "source": [
        "Out of all the other Top terrorist groups, ISIL uses explosives and firearms almost equally.\n"
      ],
      "metadata": {
        "id": "Xx8WAJvtYrdO"
      }
    },
    {
      "cell_type": "markdown",
      "source": [
        "##### 3. Will the gained insights help creating a positive business impact? \n",
        "Are there any insights that lead to negative growth? Justify with specific reason."
      ],
      "metadata": {
        "id": "y-Ehk30pYrdP"
      }
    },
    {
      "cell_type": "markdown",
      "source": [
        "Answer Here"
      ],
      "metadata": {
        "id": "jLNxxz7MYrdP"
      }
    },
    {
      "cell_type": "markdown",
      "source": [
        "#### Chart - 7"
      ],
      "metadata": {
        "id": "bamQiAODYuh1"
      }
    },
    {
      "cell_type": "code",
      "source": [
        "# Chart - 5 visualization code\n",
        "obj.top4xofy('attacker','Farabundo Marti National Liberation Front (FMLN)','weapon','Weapons used by FMLN(top 4)')  "
      ],
      "metadata": {
        "id": "TIJwrbroYuh3"
      },
      "execution_count": null,
      "outputs": []
    },
    {
      "cell_type": "markdown",
      "source": [
        "##### 1. Why did you pick the specific chart?"
      ],
      "metadata": {
        "id": "QHF8YVU7Yuh3"
      }
    },
    {
      "cell_type": "markdown",
      "source": [
        "This pie chart was chosen to identify the top four weapons used by FMLN"
      ],
      "metadata": {
        "id": "dcxuIMRPYuh3"
      }
    },
    {
      "cell_type": "markdown",
      "source": [
        "##### 2. What is/are the insight(s) found from the chart?"
      ],
      "metadata": {
        "id": "GwzvFGzlYuh3"
      }
    },
    {
      "cell_type": "markdown",
      "source": [
        "FMLN uses firearms in the majority of their attacks, their second preference is explosives. "
      ],
      "metadata": {
        "id": "uyqkiB8YYuh3"
      }
    },
    {
      "cell_type": "markdown",
      "source": [
        "##### 3. Will the gained insights help creating a positive business impact? \n",
        "Are there any insights that lead to negative growth? Justify with specific reason."
      ],
      "metadata": {
        "id": "qYpmQ266Yuh3"
      }
    },
    {
      "cell_type": "markdown",
      "source": [
        "Answer Here"
      ],
      "metadata": {
        "id": "_WtzZ_hCYuh4"
      }
    },
    {
      "cell_type": "markdown",
      "source": [
        "#### Chart - 9"
      ],
      "metadata": {
        "id": "PIIx-8_IphqN"
      }
    },
    {
      "cell_type": "code",
      "source": [
        "#Creating a bar graph to depict number of attacks on different target types\n",
        "targets = df1['target'].value_counts()\n",
        "palette = sns.color_palette(\"Spectral\", 15).as_hex()\n",
        "targets.plot(kind = 'barh',figsize=(15,10), color = palette , grid = True).patch.set_facecolor('white')\n",
        "plt.grid(color='grey', linestyle='-')\n",
        "plt.title('Attacks on various Targets', fontsize = 26)\n",
        "plt.xlabel('Number of attacks', fontsize = 16)\n",
        "plt.ylabel('Target type', fontsize = 16)\n"
      ],
      "metadata": {
        "id": "aynNgFTVqs8R"
      },
      "execution_count": null,
      "outputs": []
    },
    {
      "cell_type": "markdown",
      "source": [
        "##### 1. Why did you pick the specific chart?"
      ],
      "metadata": {
        "id": "t27r6nlMphqO"
      }
    },
    {
      "cell_type": "markdown",
      "source": [
        "This horizontal Bar graph shows the type of targets affected the most due to terror attacks.\n"
      ],
      "metadata": {
        "id": "xc9ruPxeJf2G"
      }
    },
    {
      "cell_type": "markdown",
      "source": [
        "##### 2. What is/are the insight(s) found from the chart?"
      ],
      "metadata": {
        "id": "r2jJGEOYphqO"
      }
    },
    {
      "cell_type": "markdown",
      "source": [
        "\n",
        "\n",
        "*   Private Citizens and property have been the most affected, followed by Military and Police as the second and third most affected respectively.\n",
        "\n",
        "\n"
      ],
      "metadata": {
        "id": "6oFpBajYJtAr"
      }
    },
    {
      "cell_type": "code",
      "source": [
        "df1.target.value_counts(normalize=True).mul(100).round(1).astype(str) + '%'"
      ],
      "metadata": {
        "id": "YEr1LdfbOYym"
      },
      "execution_count": null,
      "outputs": []
    },
    {
      "cell_type": "markdown",
      "source": [
        "* 23.9% of all attacks have been on Private Citizens and Property.\n"
      ],
      "metadata": {
        "id": "2amj_4ArOqV4"
      }
    },
    {
      "cell_type": "markdown",
      "source": [
        "##### 3. Will the gained insights help creating a positive business impact? \n",
        "Are there any insights that lead to negative growth? Justify with specific reason."
      ],
      "metadata": {
        "id": "b0JNsNcRphqO"
      }
    },
    {
      "cell_type": "markdown",
      "source": [
        "#### Chart - 8"
      ],
      "metadata": {
        "id": "BZR9WyysphqO"
      }
    },
    {
      "cell_type": "code",
      "source": [
        "df1[df1['target_subtype']=='School/University/Educational Building']['year'].value_counts().sort_index().plot(kind = 'line', marker = 'o', ls = ':', grid = True, colormap = \"cividis\", figsize=(15,5)).patch.set_facecolor('#f0ffff')\n",
        "plt.grid(color='grey', linestyle='-')\n",
        "plt.title('Attacks In School/University/Educational Buildings', fontsize = 25)\n",
        "\n",
        "plt.ylabel('No. of Attacks', fontsize = 15)\n",
        "plt.xlabel('Year', fontsize = 15)\n",
        "plt.xticks(df1[df1['target_subtype']=='School/University/Educational Building']['year'].value_counts().sort_index().index)\n",
        "plt.xticks(rotation=45)\n",
        "plt.legend()\n"
      ],
      "metadata": {
        "id": "DJWwsFJRs9g1"
      },
      "execution_count": null,
      "outputs": []
    },
    {
      "cell_type": "code",
      "source": [
        "#finding number of attacks in 2012\n",
        "schools=df1[df1['target_subtype']=='School/University/Educational Building']\n",
        "schools=schools[schools['year']==2012]\n",
        "schools['year'].value_counts()\n"
      ],
      "metadata": {
        "id": "kYz1SsBl5vcz"
      },
      "execution_count": null,
      "outputs": []
    },
    {
      "cell_type": "markdown",
      "source": [
        "##### 1. Why did you pick the specific chart?"
      ],
      "metadata": {
        "id": "jj7wYXLtphqO"
      }
    },
    {
      "cell_type": "markdown",
      "source": [
        "This line chart was chosen to visualize the number of terrorsit incidents in educational institutions over the years."
      ],
      "metadata": {
        "id": "Ob8u6rCTphqO"
      }
    },
    {
      "cell_type": "markdown",
      "source": [
        "##### 2. What is/are the insight(s) found from the chart?"
      ],
      "metadata": {
        "id": "eZrbJ2SmphqO"
      }
    },
    {
      "cell_type": "markdown",
      "source": [
        "\n",
        "1.  Number of attacks increased after 2006\n",
        "2.  2012 was the year with most number of terrorist incidents in educational institutions. (276)\n",
        "\n"
      ],
      "metadata": {
        "id": "mZtgC_hjphqO"
      }
    },
    {
      "cell_type": "markdown",
      "source": [
        "##### 3. Will the gained insights help creating a positive business impact? \n",
        "Are there any insights that lead to negative growth? Justify with specific reason."
      ],
      "metadata": {
        "id": "rFu4xreNphqO"
      }
    },
    {
      "cell_type": "markdown",
      "source": [
        "Answer Here"
      ],
      "metadata": {
        "id": "ey_0qi68phqO"
      }
    },
    {
      "cell_type": "markdown",
      "source": [
        "#### Chart - 9"
      ],
      "metadata": {
        "id": "YJ55k-q6phqO"
      }
    },
    {
      "cell_type": "code",
      "source": [
        "#Creating sub dataframe df2 with sucess failure information\n",
        "df2=df[['region_txt','success']]\n",
        "df2=pd.DataFrame(df2.value_counts().reset_index())\n",
        "df2.columns = [\"region\", \"status\", \"count\"]\n",
        "\n",
        "df2['status'] = df2['status'].replace([0,1], ['Failure', 'Success'])\n",
        "\n",
        "#df2.columns = [\"region\", \"status\", \"count\"]\n",
        "plt.figure(figsize=(20,5))\n",
        "g = sns.catplot(data=df2, kind=\"bar\", x=\"count\", y=\"region\", hue=\"status\",  palette=\"dark\",height=9, aspect=12/9)\n",
        "g.set(xlabel='number of attacks', ylabel='region',title='SUCCESS VS FAILURE')\n",
        "\n",
        "\n",
        "\n"
      ],
      "metadata": {
        "id": "M8__OS_OhlVa"
      },
      "execution_count": null,
      "outputs": []
    },
    {
      "cell_type": "code",
      "source": [
        "#Creating sub dataframe df3 with success failure information\n",
        "df3=df[['region_txt','success']]\n",
        "df3=pd.DataFrame(df3.value_counts().reset_index())\n",
        "df3.columns = [\"region\", \"success\", \"count\"]\n",
        "\n",
        "#counting all success values to a seperate df\n",
        "sucessful=pd.DataFrame(df3[df3['success']==1])\n",
        "sucessful.drop(['success'], axis=1,inplace=True)\n",
        "sucessful = sucessful.rename(columns={'count': 'success'})\n",
        "\n",
        "#counting all failure values to a seperate df\n",
        "failure=pd.DataFrame(df3[df3['success']==0])\n",
        "failure.drop(['success'], axis=1,inplace=True)\n",
        "failure = failure.rename(columns={'count': 'failure'})\n",
        "\n",
        "#merging two dataframes to get sucess and failure attack counts on each region\n",
        "success_fail = pd.merge(sucessful, failure, on ='region')\n",
        "success_fail['total']=(success_fail['success']+success_fail['failure'])\n",
        "success_fail['fail_percent']=(success_fail['failure']/success_fail['total'])*100\n",
        "success_fail['success_percent']=(success_fail['success']/success_fail['total'])*100\n",
        "success_fail.sort_values(by=['success_percent'],ascending=False)\n"
      ],
      "metadata": {
        "id": "B2aS4O1ophqO"
      },
      "execution_count": null,
      "outputs": []
    },
    {
      "cell_type": "code",
      "source": [
        "sns.barplot(success_fail, x=\"success_percent\", y=\"region\")"
      ],
      "metadata": {
        "id": "WJ1mkgfMo3k2"
      },
      "execution_count": null,
      "outputs": []
    },
    {
      "cell_type": "markdown",
      "source": [
        "##### 1. Why did you pick the specific chart?"
      ],
      "metadata": {
        "id": "gCFgpxoyphqP"
      }
    },
    {
      "cell_type": "markdown",
      "source": [
        "To compare the number of successful attacks and failed attacks side by side, this barplot was chosen."
      ],
      "metadata": {
        "id": "TVxDimi2phqP"
      }
    },
    {
      "cell_type": "markdown",
      "source": [
        "##### 2. What is/are the insight(s) found from the chart?"
      ],
      "metadata": {
        "id": "OVtJsKN_phqQ"
      }
    },
    {
      "cell_type": "markdown",
      "source": [
        "\n",
        "\n",
        "*   The general tred observed here is that the number of failed attacks is less than a quarter of the number of successful attacks in highly attacked regions\n",
        "*   Central America and Carribbean region have a very low number of failed attacks to successful attacks.\n",
        "\n",
        "* To find out the percentage of successful attacks in Central America and Caribbean region, the above data wrangling was done.\n",
        "* We can observe that around 96 percent of attacks in Central America and Carribbean region turn out successful.\n",
        "* In regions with more than 10000 attacks, Western Europe has the best record of making attacks unsuccessful as only 85 percent of terror attacks are successful in the region\n"
      ],
      "metadata": {
        "id": "ngGi97qjphqQ"
      }
    },
    {
      "cell_type": "markdown",
      "source": [
        "##### 3. Will the gained insights help creating a positive business impact? \n",
        "Are there any insights that lead to negative growth? Justify with specific reason."
      ],
      "metadata": {
        "id": "lssrdh5qphqQ"
      }
    },
    {
      "cell_type": "markdown",
      "source": [
        "Answer Here"
      ],
      "metadata": {
        "id": "tBpY5ekJphqQ"
      }
    },
    {
      "cell_type": "markdown",
      "source": [
        "#### Chart - 10"
      ],
      "metadata": {
        "id": "U2RJ9gkRphqQ"
      }
    },
    {
      "cell_type": "code",
      "source": [
        "# Chart - 10 visualization code"
      ],
      "metadata": {
        "id": "GM7a4YP4phqQ"
      },
      "execution_count": null,
      "outputs": []
    },
    {
      "cell_type": "markdown",
      "source": [
        "##### 1. Why did you pick the specific chart?"
      ],
      "metadata": {
        "id": "1M8mcRywphqQ"
      }
    },
    {
      "cell_type": "markdown",
      "source": [
        "Answer Here."
      ],
      "metadata": {
        "id": "8agQvks0phqQ"
      }
    },
    {
      "cell_type": "markdown",
      "source": [
        "##### 2. What is/are the insight(s) found from the chart?"
      ],
      "metadata": {
        "id": "tgIPom80phqQ"
      }
    },
    {
      "cell_type": "markdown",
      "source": [
        "Answer Here"
      ],
      "metadata": {
        "id": "Qp13pnNzphqQ"
      }
    },
    {
      "cell_type": "markdown",
      "source": [
        "##### 3. Will the gained insights help creating a positive business impact? \n",
        "Are there any insights that lead to negative growth? Justify with specific reason."
      ],
      "metadata": {
        "id": "JMzcOPDDphqR"
      }
    },
    {
      "cell_type": "markdown",
      "source": [
        "Answer Here"
      ],
      "metadata": {
        "id": "R4Ka1PC2phqR"
      }
    },
    {
      "cell_type": "markdown",
      "source": [
        "#### Chart - 11"
      ],
      "metadata": {
        "id": "x-EpHcCOp1ci"
      }
    },
    {
      "cell_type": "code",
      "source": [
        "# Chart - 11 visualization code"
      ],
      "metadata": {
        "id": "mAQTIvtqp1cj"
      },
      "execution_count": null,
      "outputs": []
    },
    {
      "cell_type": "markdown",
      "source": [
        "##### 1. Why did you pick the specific chart?"
      ],
      "metadata": {
        "id": "X_VqEhTip1ck"
      }
    },
    {
      "cell_type": "markdown",
      "source": [
        "Answer Here."
      ],
      "metadata": {
        "id": "-vsMzt_np1ck"
      }
    },
    {
      "cell_type": "markdown",
      "source": [
        "##### 2. What is/are the insight(s) found from the chart?"
      ],
      "metadata": {
        "id": "8zGJKyg5p1ck"
      }
    },
    {
      "cell_type": "markdown",
      "source": [
        "Answer Here"
      ],
      "metadata": {
        "id": "ZYdMsrqVp1ck"
      }
    },
    {
      "cell_type": "markdown",
      "source": [
        "##### 3. Will the gained insights help creating a positive business impact? \n",
        "Are there any insights that lead to negative growth? Justify with specific reason."
      ],
      "metadata": {
        "id": "PVzmfK_Ep1ck"
      }
    },
    {
      "cell_type": "markdown",
      "source": [
        "Answer Here"
      ],
      "metadata": {
        "id": "druuKYZpp1ck"
      }
    },
    {
      "cell_type": "markdown",
      "source": [
        "#### Chart - 12"
      ],
      "metadata": {
        "id": "n3dbpmDWp1ck"
      }
    },
    {
      "cell_type": "code",
      "source": [
        "# Chart - 12 visualization code"
      ],
      "metadata": {
        "id": "bwevp1tKp1ck"
      },
      "execution_count": null,
      "outputs": []
    },
    {
      "cell_type": "markdown",
      "source": [
        "##### 1. Why did you pick the specific chart?"
      ],
      "metadata": {
        "id": "ylSl6qgtp1ck"
      }
    },
    {
      "cell_type": "markdown",
      "source": [
        "Answer Here."
      ],
      "metadata": {
        "id": "m2xqNkiQp1ck"
      }
    },
    {
      "cell_type": "markdown",
      "source": [
        "##### 2. What is/are the insight(s) found from the chart?"
      ],
      "metadata": {
        "id": "ZWILFDl5p1ck"
      }
    },
    {
      "cell_type": "markdown",
      "source": [
        "Answer Here"
      ],
      "metadata": {
        "id": "x-lUsV2mp1ck"
      }
    },
    {
      "cell_type": "markdown",
      "source": [
        "##### 3. Will the gained insights help creating a positive business impact? \n",
        "Are there any insights that lead to negative growth? Justify with specific reason."
      ],
      "metadata": {
        "id": "M7G43BXep1ck"
      }
    },
    {
      "cell_type": "markdown",
      "source": [
        "Answer Here"
      ],
      "metadata": {
        "id": "5wwDJXsLp1cl"
      }
    },
    {
      "cell_type": "markdown",
      "source": [
        "#### Chart - 13"
      ],
      "metadata": {
        "id": "Ag9LCva-p1cl"
      }
    },
    {
      "cell_type": "code",
      "source": [
        "# Chart - 13 visualization code"
      ],
      "metadata": {
        "id": "EUfxeq9-p1cl"
      },
      "execution_count": null,
      "outputs": []
    },
    {
      "cell_type": "markdown",
      "source": [
        "##### 1. Why did you pick the specific chart?"
      ],
      "metadata": {
        "id": "E6MkPsBcp1cl"
      }
    },
    {
      "cell_type": "markdown",
      "source": [
        "Answer Here."
      ],
      "metadata": {
        "id": "V22bRsFWp1cl"
      }
    },
    {
      "cell_type": "markdown",
      "source": [
        "##### 2. What is/are the insight(s) found from the chart?"
      ],
      "metadata": {
        "id": "2cELzS2fp1cl"
      }
    },
    {
      "cell_type": "markdown",
      "source": [
        "Answer Here"
      ],
      "metadata": {
        "id": "ozQPc2_Ip1cl"
      }
    },
    {
      "cell_type": "markdown",
      "source": [
        "##### 3. Will the gained insights help creating a positive business impact? \n",
        "Are there any insights that lead to negative growth? Justify with specific reason."
      ],
      "metadata": {
        "id": "3MPXvC8up1cl"
      }
    },
    {
      "cell_type": "markdown",
      "source": [
        "Answer Here"
      ],
      "metadata": {
        "id": "GL8l1tdLp1cl"
      }
    },
    {
      "cell_type": "markdown",
      "source": [
        "#### Chart - 14 - Correlation Heatmap"
      ],
      "metadata": {
        "id": "NC_X3p0fY2L0"
      }
    },
    {
      "cell_type": "code",
      "source": [
        "#Relation between each column with every other column can be visualised using correlation heatmap\n",
        "corr = df1.corr()\n",
        "hm = sns.heatmap(corr, vmin=-1, vmax=1, center=0,annot = True,robust = False, linewidth = 3,cmap=sns.diverging_palette(1, 50, as_cmap = True),\n",
        "    square=True)\n",
        "hm.set_xticklabels(hm.get_xticklabels(),rotation=90, horizontalalignment='right');\n",
        "sns.set(rc = {'figure.figsize':(20,10)})"
      ],
      "metadata": {
        "id": "kvHCeVW3erL_"
      },
      "execution_count": null,
      "outputs": []
    },
    {
      "cell_type": "markdown",
      "source": [
        "The heatmap shows that only killed, wounded and casualities are related which is obvious considering that all 3 columns represent the same category, that is, damage done to people."
      ],
      "metadata": {
        "id": "vJbNK5umg-vf"
      }
    },
    {
      "cell_type": "markdown",
      "source": [
        "##### 1. Why did you pick the specific chart?"
      ],
      "metadata": {
        "id": "UV0SzAkaZNRQ"
      }
    },
    {
      "cell_type": "markdown",
      "source": [
        "Answer Here."
      ],
      "metadata": {
        "id": "DVPuT8LYZNRQ"
      }
    },
    {
      "cell_type": "markdown",
      "source": [
        "##### 2. What is/are the insight(s) found from the chart?"
      ],
      "metadata": {
        "id": "YPEH6qLeZNRQ"
      }
    },
    {
      "cell_type": "markdown",
      "source": [
        "The heatmap shows that only killed, wounded and casualities are related which is obvious considering that all 3 columns represent the same category, that is, damage done to people."
      ],
      "metadata": {
        "id": "bfSqtnDqZNRR"
      }
    },
    {
      "cell_type": "markdown",
      "source": [
        "#### Chart - 15 - Pair Plot "
      ],
      "metadata": {
        "id": "q29F0dvdveiT"
      }
    },
    {
      "cell_type": "code",
      "source": [
        "# Pair Plot visualization code\n",
        "\n",
        "sns.pairplot(df1, diag_kind=\"hist\")\n"
      ],
      "metadata": {
        "id": "o58-TEIhveiU"
      },
      "execution_count": null,
      "outputs": []
    },
    {
      "cell_type": "markdown",
      "source": [
        "##### 1. Why did you pick the specific chart?"
      ],
      "metadata": {
        "id": "EXh0U9oCveiU"
      }
    },
    {
      "cell_type": "markdown",
      "source": [
        "Answer Here."
      ],
      "metadata": {
        "id": "eMmPjTByveiU"
      }
    },
    {
      "cell_type": "markdown",
      "source": [
        "##### 2. What is/are the insight(s) found from the chart?"
      ],
      "metadata": {
        "id": "22aHeOlLveiV"
      }
    },
    {
      "cell_type": "markdown",
      "source": [
        "Answer Here"
      ],
      "metadata": {
        "id": "uPQ8RGwHveiV"
      }
    },
    {
      "cell_type": "markdown",
      "source": [
        "## **5. Solution to Business Objective**"
      ],
      "metadata": {
        "id": "JcMwzZxoAimU"
      }
    },
    {
      "cell_type": "markdown",
      "source": [
        "#### What do you suggest the client to achieve Business Objective ? \n",
        "Explain Briefly."
      ],
      "metadata": {
        "id": "8G2x9gOozGDZ"
      }
    },
    {
      "cell_type": "markdown",
      "source": [
        "Answer Here."
      ],
      "metadata": {
        "id": "pASKb0qOza21"
      }
    },
    {
      "cell_type": "markdown",
      "source": [
        "# **Conclusion**"
      ],
      "metadata": {
        "id": "gCX9965dhzqZ"
      }
    },
    {
      "cell_type": "markdown",
      "source": [
        "Write the conclusion here."
      ],
      "metadata": {
        "id": "Fjb1IsQkh3yE"
      }
    },
    {
      "cell_type": "markdown",
      "source": [
        "### ***Hurrah! You have successfully completed your EDA Capstone Project !!!***"
      ],
      "metadata": {
        "id": "gIfDvo9L0UH2"
      }
    }
  ]
}